{
 "cells": [
  {
   "cell_type": "markdown",
   "metadata": {},
   "source": [
    "<h1> Introduction/Business Problem</h1>"
   ]
  },
  {
   "cell_type": "markdown",
   "metadata": {},
   "source": [
    "<h2>background</h2>"
   ]
  },
  {
   "cell_type": "markdown",
   "metadata": {},
   "source": [
    "<P>An investor wants to open a luxurious Italian restaurant, meaning that is a restaurant that provides high-quality services\n",
    "For him , he wants to invest in New york city, and Manhaten borough.He expressed his desire to use data science to choose the \n",
    "right place for this purpose</p>  \n"
   ]
  },
  {
   "cell_type": "markdown",
   "metadata": {},
   "source": [
    "<h3>The question is :\n",
    "    <br>what is the right neighborhood that has the right properties to receive this project ?<br></h3> "
   ]
  },
  {
   "cell_type": "markdown",
   "metadata": {},
   "source": [
    "<p>Starting from this question is definitely a difficult matter without trying to divide it and know what these\n",
    "characteristics are and how we can define them , knowning that the data will only be from the Internet.<p> "
   ]
  },
  {
   "cell_type": "markdown",
   "metadata": {},
   "source": [
    "<p>we will try to divide this complex question into several simple questions , through wih we can at least lay\n",
    "the foundation for this construction :</p>"
   ]
  },
  {
   "cell_type": "markdown",
   "metadata": {},
   "source": [
    "<p>\n",
    "<br><br>1)what are the neighborhoods located in a borough of Manhatten?<br>\n",
    "konwing all neighborhood is important for studying the area and this is an important\n",
    "question among the questions , because one of these elements will be chosen, and therefore we\n",
    "my say tha the target !!!!<br>\n",
    "<br><br>2)what is the socio-economic classification of these neighborhood?<br>\n",
    "this is a question that refers directly to an important aspect, which is the individual income\n",
    "and standard of living for individuals , because we are talking about a luxury restaurant and this is important.<br>\n",
    "    \n",
    "<br>3)how is the competitions betwen restaurant ? <br>\n",
    "based on the presence of the same classfication of restaurants and the same category and the restaurant in general \n",
    "    \n",
    "</p>"
   ]
  },
  {
   "cell_type": "markdown",
   "metadata": {},
   "source": [
    "<h2><br>why is research in this way important for the project ?<br></h2>\n",
    "\n",
    "<p>there are many projects that are conducted by study and does not rely on data science in their studies ,\n",
    "perhaps this due to the reliance on a small number of the data and its generalisation, wich results in a\n",
    "lot of errors. of course it cannot be said that it is not useful but it is not sufficient\n",
    "today the economy has devloped and taken a turn and relianceon data science will be useful in determining the target\n",
    "group and all the basic elements affect profit.A restaurant project is also project that needs studing and adopting\n",
    "a large amount of data analyzing and woking on it that help thosse who approach the real picture and of course , additional \n",
    "profit and success in business<p> "
   ]
  },
  {
   "cell_type": "code",
   "execution_count": null,
   "metadata": {},
   "outputs": [],
   "source": []
  }
 ],
 "metadata": {
  "kernelspec": {
   "display_name": "Python",
   "language": "python",
   "name": "conda-env-python-py"
  },
  "language_info": {
   "codemirror_mode": {
    "name": "ipython",
    "version": 3
   },
   "file_extension": ".py",
   "mimetype": "text/x-python",
   "name": "python",
   "nbconvert_exporter": "python",
   "pygments_lexer": "ipython3",
   "version": "3.6.12"
  }
 },
 "nbformat": 4,
 "nbformat_minor": 4
}
