{
 "cells": [
  {
   "cell_type": "markdown",
   "metadata": {},
   "source": [
    "<h1>A description of the data and how it will be used to solve the problem</h1>"
   ]
  },
  {
   "cell_type": "markdown",
   "metadata": {},
   "source": [
    "<h3>choice of data source :<h3>\n",
    "    "
   ]
  },
  {
   "cell_type": "markdown",
   "metadata": {},
   "source": [
    "<p>As for the data ,it must be related to the questions raised in the introduction and thus it willl be relied\n",
    "upon in searshing for  the necessary data features: variables  and e target.<p>"
   ]
  },
  {
   "cell_type": "markdown",
   "metadata": {},
   "source": [
    "<p>1)what are the neighborhoods located in a borough of Manhatten?<p>"
   ]
  },
  {
   "cell_type": "markdown",
   "metadata": {},
   "source": [
    "<p>to answer this question we will search on a ibm storage  , it contains New York City data wich will refer us to\n",
    "neighborhoods within Manhattan , and location  <p>"
   ]
  },
  {
   "cell_type": "markdown",
   "metadata": {},
   "source": [
    "<p>2)what is the socio-economic classification of these neighborhood?<p>\n",
    "<p>to answer this question we will search in kaggls or scraping from <a href='https://en.wikipedia.org/wiki/List_of_New_York_locations_by_per_capita_income'>here</a>\n",
    "for knowing income and population in new york in general , manhattan in spetial<p>\n"
   ]
  },
  {
   "cell_type": "markdown",
   "metadata": {},
   "source": [
    "<p>3) how is the competitions betwen restaurant ?<p>\n",
    "<p>here we will be fetching data from forsquare api and chose all venues category like restaurant ,\n",
    "and dealing with it <p> \n",
    "<p> maybe other features will hep me to more indurstand the good places<p>"
   ]
  },
  {
   "cell_type": "markdown",
   "metadata": {},
   "source": [
    "<p>The choice of data in order to srudy places and how many potential customers are and what are the most imortant\n",
    "features of the places that have it ,perhaps real questions to answer what is the right one , so I must know everyting\n",
    "that needs to be taken into account and therefore in the midst of work and analysis will apear other feature that\n",
    "i should focus on , thiw was only preliminary choice, not a final one<p> \n",
    "\n"
   ]
  },
  {
   "cell_type": "markdown",
   "metadata": {},
   "source": [
    "<p>so the target is : \"Neighberhood\"<p>\n",
    "<p>variable choce all after feature ingenieuring i will dertermine  what are the ncessary\n",
    "variables that have an impact on the neighborhood<p>"
   ]
  },
  {
   "cell_type": "code",
   "execution_count": null,
   "metadata": {},
   "outputs": [],
   "source": []
  }
 ],
 "metadata": {
  "kernelspec": {
   "display_name": "Python",
   "language": "python",
   "name": "conda-env-python-py"
  },
  "language_info": {
   "codemirror_mode": {
    "name": "ipython",
    "version": 3
   },
   "file_extension": ".py",
   "mimetype": "text/x-python",
   "name": "python",
   "nbconvert_exporter": "python",
   "pygments_lexer": "ipython3",
   "version": "3.6.12"
  }
 },
 "nbformat": 4,
 "nbformat_minor": 4
}
